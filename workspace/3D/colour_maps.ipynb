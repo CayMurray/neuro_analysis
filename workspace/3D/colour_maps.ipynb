{
 "cells": [
  {
   "cell_type": "code",
   "execution_count": null,
   "metadata": {},
   "outputs": [],
   "source": [
    "## MODULES ##\n",
    "\n",
    "import os\n",
    "import numpy as np\n",
    "import nibabel as nib\n",
    "from nilearn import datasets,plotting,image"
   ]
  },
  {
   "cell_type": "code",
   "execution_count": null,
   "metadata": {},
   "outputs": [],
   "source": [
    "bg = nib.load('amp.nii').get_fdata()\n",
    "bg = (bg-bg.min())/(bg.max()-bg.min())\n",
    "bg = nib.Nifti1Image(bg,affine=np.eye(4))\n",
    "\n",
    "stats = nib.load('R2.nii').get_fdata()\n",
    "stats = (stats-stats.min())/(stats.max()-stats.min())\n",
    "stats[stats>0.5] = 0\n",
    "stats = nib.Nifti1Image(stats,affine=np.eye(4))\n"
   ]
  },
  {
   "cell_type": "code",
   "execution_count": null,
   "metadata": {},
   "outputs": [],
   "source": [
    "view = plotting.view_img(stats, bg_img=bg, threshold=0.5, display_mode='ortho', cut_coords=(0, 0, 0))\n",
    "view.open_in_browser()"
   ]
  }
 ],
 "metadata": {
  "kernelspec": {
   "display_name": "3D",
   "language": "python",
   "name": "python3"
  },
  "language_info": {
   "codemirror_mode": {
    "name": "ipython",
    "version": 3
   },
   "file_extension": ".py",
   "mimetype": "text/x-python",
   "name": "python",
   "nbconvert_exporter": "python",
   "pygments_lexer": "ipython3",
   "version": "3.12.1"
  }
 },
 "nbformat": 4,
 "nbformat_minor": 2
}
